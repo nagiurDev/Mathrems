{
 "cells": [
  {
   "metadata": {},
   "cell_type": "markdown",
   "source": "# Pandas Indexing Tutorial: loc, iloc, slicing, and filtering",
   "id": "61edeaa886ddf289"
  },
  {
   "metadata": {
    "ExecuteTime": {
     "end_time": "2024-10-02T07:21:26.041351Z",
     "start_time": "2024-10-02T07:21:26.032640Z"
    }
   },
   "cell_type": "code",
   "source": [
    "import pandas as pd\n",
    "from param import DataFrame"
   ],
   "id": "effd586d754de731",
   "outputs": [],
   "execution_count": 1
  },
  {
   "metadata": {},
   "cell_type": "markdown",
   "source": "## Create a dataset : apple_stock_prices",
   "id": "f7e34eb4238a6cb1"
  },
  {
   "metadata": {
    "ExecuteTime": {
     "end_time": "2024-10-02T07:35:41.939877Z",
     "start_time": "2024-10-02T07:35:41.929345Z"
    }
   },
   "cell_type": "code",
   "source": [
    "non_continuous_dates = pd.to_datetime(['2021-12-22', '2021-12-23', '2021-12-27'])\n",
    "data = {\n",
    "    'Open': [173.039993, 175.850006, 177.085007],\n",
    "    'Close': [175.639999, 176.279999, 177.410004],\n",
    "    'Volume': [92135300, 68227500, 14381634]\n",
    "}\n"
   ],
   "id": "46a2c13e6de509fd",
   "outputs": [],
   "execution_count": 15
  },
  {
   "metadata": {
    "ExecuteTime": {
     "end_time": "2024-10-02T07:35:47.426704Z",
     "start_time": "2024-10-02T07:35:47.416637Z"
    }
   },
   "cell_type": "code",
   "source": [
    "apple_stock_data = pd.DataFrame(data)\n",
    "apple_stock_data.index = non_continuous_dates"
   ],
   "id": "99a3cf0b83602043",
   "outputs": [],
   "execution_count": 16
  },
  {
   "metadata": {
    "ExecuteTime": {
     "end_time": "2024-10-02T07:35:53.525783Z",
     "start_time": "2024-10-02T07:35:53.505396Z"
    }
   },
   "cell_type": "code",
   "source": "apple_stock_data",
   "id": "e6af13613e08aac",
   "outputs": [
    {
     "data": {
      "text/plain": [
       "                  Open       Close    Volume\n",
       "2021-12-22  173.039993  175.639999  92135300\n",
       "2021-12-23  175.850006  176.279999  68227500\n",
       "2021-12-27  177.085007  177.410004  14381634"
      ],
      "text/html": [
       "<div>\n",
       "<style scoped>\n",
       "    .dataframe tbody tr th:only-of-type {\n",
       "        vertical-align: middle;\n",
       "    }\n",
       "\n",
       "    .dataframe tbody tr th {\n",
       "        vertical-align: top;\n",
       "    }\n",
       "\n",
       "    .dataframe thead th {\n",
       "        text-align: right;\n",
       "    }\n",
       "</style>\n",
       "<table border=\"1\" class=\"dataframe\">\n",
       "  <thead>\n",
       "    <tr style=\"text-align: right;\">\n",
       "      <th></th>\n",
       "      <th>Open</th>\n",
       "      <th>Close</th>\n",
       "      <th>Volume</th>\n",
       "    </tr>\n",
       "  </thead>\n",
       "  <tbody>\n",
       "    <tr>\n",
       "      <th>2021-12-22</th>\n",
       "      <td>173.039993</td>\n",
       "      <td>175.639999</td>\n",
       "      <td>92135300</td>\n",
       "    </tr>\n",
       "    <tr>\n",
       "      <th>2021-12-23</th>\n",
       "      <td>175.850006</td>\n",
       "      <td>176.279999</td>\n",
       "      <td>68227500</td>\n",
       "    </tr>\n",
       "    <tr>\n",
       "      <th>2021-12-27</th>\n",
       "      <td>177.085007</td>\n",
       "      <td>177.410004</td>\n",
       "      <td>14381634</td>\n",
       "    </tr>\n",
       "  </tbody>\n",
       "</table>\n",
       "</div>"
      ]
     },
     "execution_count": 17,
     "metadata": {},
     "output_type": "execute_result"
    }
   ],
   "execution_count": 17
  },
  {
   "metadata": {},
   "cell_type": "markdown",
   "source": "## Exploring the data",
   "id": "77a6df7479afbd4a"
  },
  {
   "metadata": {
    "ExecuteTime": {
     "end_time": "2024-10-02T07:37:15.287142Z",
     "start_time": "2024-10-02T07:37:15.261959Z"
    }
   },
   "cell_type": "code",
   "source": [
    "df = apple_stock_data\n",
    "df"
   ],
   "id": "24f4228fbed3e678",
   "outputs": [
    {
     "data": {
      "text/plain": [
       "                  Open       Close    Volume\n",
       "2021-12-22  173.039993  175.639999  92135300\n",
       "2021-12-23  175.850006  176.279999  68227500\n",
       "2021-12-27  177.085007  177.410004  14381634"
      ],
      "text/html": [
       "<div>\n",
       "<style scoped>\n",
       "    .dataframe tbody tr th:only-of-type {\n",
       "        vertical-align: middle;\n",
       "    }\n",
       "\n",
       "    .dataframe tbody tr th {\n",
       "        vertical-align: top;\n",
       "    }\n",
       "\n",
       "    .dataframe thead th {\n",
       "        text-align: right;\n",
       "    }\n",
       "</style>\n",
       "<table border=\"1\" class=\"dataframe\">\n",
       "  <thead>\n",
       "    <tr style=\"text-align: right;\">\n",
       "      <th></th>\n",
       "      <th>Open</th>\n",
       "      <th>Close</th>\n",
       "      <th>Volume</th>\n",
       "    </tr>\n",
       "  </thead>\n",
       "  <tbody>\n",
       "    <tr>\n",
       "      <th>2021-12-22</th>\n",
       "      <td>173.039993</td>\n",
       "      <td>175.639999</td>\n",
       "      <td>92135300</td>\n",
       "    </tr>\n",
       "    <tr>\n",
       "      <th>2021-12-23</th>\n",
       "      <td>175.850006</td>\n",
       "      <td>176.279999</td>\n",
       "      <td>68227500</td>\n",
       "    </tr>\n",
       "    <tr>\n",
       "      <th>2021-12-27</th>\n",
       "      <td>177.085007</td>\n",
       "      <td>177.410004</td>\n",
       "      <td>14381634</td>\n",
       "    </tr>\n",
       "  </tbody>\n",
       "</table>\n",
       "</div>"
      ]
     },
     "execution_count": 18,
     "metadata": {},
     "output_type": "execute_result"
    }
   ],
   "execution_count": 18
  },
  {
   "metadata": {
    "ExecuteTime": {
     "end_time": "2024-10-02T07:37:28.590394Z",
     "start_time": "2024-10-02T07:37:28.577977Z"
    }
   },
   "cell_type": "code",
   "source": "df.columns",
   "id": "45887bf0da88102f",
   "outputs": [
    {
     "data": {
      "text/plain": [
       "Index(['Open', 'Close', 'Volume'], dtype='object')"
      ]
     },
     "execution_count": 19,
     "metadata": {},
     "output_type": "execute_result"
    }
   ],
   "execution_count": 19
  },
  {
   "metadata": {
    "ExecuteTime": {
     "end_time": "2024-10-02T07:37:39.092687Z",
     "start_time": "2024-10-02T07:37:39.077135Z"
    }
   },
   "cell_type": "code",
   "source": "df.index",
   "id": "26f2ce6c79efa6c5",
   "outputs": [
    {
     "data": {
      "text/plain": [
       "DatetimeIndex(['2021-12-22', '2021-12-23', '2021-12-27'], dtype='datetime64[ns]', freq=None)"
      ]
     },
     "execution_count": 20,
     "metadata": {},
     "output_type": "execute_result"
    }
   ],
   "execution_count": 20
  },
  {
   "metadata": {
    "ExecuteTime": {
     "end_time": "2024-10-02T07:38:31.320659Z",
     "start_time": "2024-10-02T07:38:31.296382Z"
    }
   },
   "cell_type": "code",
   "source": "df.head(2)",
   "id": "26070bf8b85d126a",
   "outputs": [
    {
     "data": {
      "text/plain": [
       "                  Open       Close    Volume\n",
       "2021-12-22  173.039993  175.639999  92135300\n",
       "2021-12-23  175.850006  176.279999  68227500"
      ],
      "text/html": [
       "<div>\n",
       "<style scoped>\n",
       "    .dataframe tbody tr th:only-of-type {\n",
       "        vertical-align: middle;\n",
       "    }\n",
       "\n",
       "    .dataframe tbody tr th {\n",
       "        vertical-align: top;\n",
       "    }\n",
       "\n",
       "    .dataframe thead th {\n",
       "        text-align: right;\n",
       "    }\n",
       "</style>\n",
       "<table border=\"1\" class=\"dataframe\">\n",
       "  <thead>\n",
       "    <tr style=\"text-align: right;\">\n",
       "      <th></th>\n",
       "      <th>Open</th>\n",
       "      <th>Close</th>\n",
       "      <th>Volume</th>\n",
       "    </tr>\n",
       "  </thead>\n",
       "  <tbody>\n",
       "    <tr>\n",
       "      <th>2021-12-22</th>\n",
       "      <td>173.039993</td>\n",
       "      <td>175.639999</td>\n",
       "      <td>92135300</td>\n",
       "    </tr>\n",
       "    <tr>\n",
       "      <th>2021-12-23</th>\n",
       "      <td>175.850006</td>\n",
       "      <td>176.279999</td>\n",
       "      <td>68227500</td>\n",
       "    </tr>\n",
       "  </tbody>\n",
       "</table>\n",
       "</div>"
      ]
     },
     "execution_count": 22,
     "metadata": {},
     "output_type": "execute_result"
    }
   ],
   "execution_count": 22
  },
  {
   "metadata": {},
   "cell_type": "markdown",
   "source": [
    "## df[]\n",
    "Used to get individual columns as Series, and to filter the DataFrame."
   ],
   "id": "2ed501416b4d0e0a"
  },
  {
   "metadata": {
    "ExecuteTime": {
     "end_time": "2024-10-02T07:39:15.106760Z",
     "start_time": "2024-10-02T07:39:15.088077Z"
    }
   },
   "cell_type": "code",
   "source": "df[\"Open\"]",
   "id": "8fc94f3a508b3e32",
   "outputs": [
    {
     "data": {
      "text/plain": [
       "2021-12-22    173.039993\n",
       "2021-12-23    175.850006\n",
       "2021-12-27    177.085007\n",
       "Name: Open, dtype: float64"
      ]
     },
     "execution_count": 23,
     "metadata": {},
     "output_type": "execute_result"
    }
   ],
   "execution_count": 23
  },
  {
   "metadata": {
    "ExecuteTime": {
     "end_time": "2024-10-02T08:25:52.856138Z",
     "start_time": "2024-10-02T08:25:52.840174Z"
    }
   },
   "cell_type": "code",
   "source": " type(df[\"Open\"])",
   "id": "c8e07e678d1c4e0e",
   "outputs": [
    {
     "data": {
      "text/plain": [
       "pandas.core.series.Series"
      ]
     },
     "execution_count": 73,
     "metadata": {},
     "output_type": "execute_result"
    }
   ],
   "execution_count": 73
  },
  {
   "metadata": {
    "ExecuteTime": {
     "end_time": "2024-10-02T07:40:03.599724Z",
     "start_time": "2024-10-02T07:40:03.563410Z"
    }
   },
   "cell_type": "code",
   "source": "df[[\"Open\", \"Close\"]]",
   "id": "6952c7f6e66328c0",
   "outputs": [
    {
     "data": {
      "text/plain": [
       "                  Open       Close\n",
       "2021-12-22  173.039993  175.639999\n",
       "2021-12-23  175.850006  176.279999\n",
       "2021-12-27  177.085007  177.410004"
      ],
      "text/html": [
       "<div>\n",
       "<style scoped>\n",
       "    .dataframe tbody tr th:only-of-type {\n",
       "        vertical-align: middle;\n",
       "    }\n",
       "\n",
       "    .dataframe tbody tr th {\n",
       "        vertical-align: top;\n",
       "    }\n",
       "\n",
       "    .dataframe thead th {\n",
       "        text-align: right;\n",
       "    }\n",
       "</style>\n",
       "<table border=\"1\" class=\"dataframe\">\n",
       "  <thead>\n",
       "    <tr style=\"text-align: right;\">\n",
       "      <th></th>\n",
       "      <th>Open</th>\n",
       "      <th>Close</th>\n",
       "    </tr>\n",
       "  </thead>\n",
       "  <tbody>\n",
       "    <tr>\n",
       "      <th>2021-12-22</th>\n",
       "      <td>173.039993</td>\n",
       "      <td>175.639999</td>\n",
       "    </tr>\n",
       "    <tr>\n",
       "      <th>2021-12-23</th>\n",
       "      <td>175.850006</td>\n",
       "      <td>176.279999</td>\n",
       "    </tr>\n",
       "    <tr>\n",
       "      <th>2021-12-27</th>\n",
       "      <td>177.085007</td>\n",
       "      <td>177.410004</td>\n",
       "    </tr>\n",
       "  </tbody>\n",
       "</table>\n",
       "</div>"
      ]
     },
     "execution_count": 25,
     "metadata": {},
     "output_type": "execute_result"
    }
   ],
   "execution_count": 25
  },
  {
   "metadata": {
    "ExecuteTime": {
     "end_time": "2024-10-02T07:40:30.088110Z",
     "start_time": "2024-10-02T07:40:30.072381Z"
    }
   },
   "cell_type": "code",
   "source": "type(df[[\"Open\", \"Close\"]])",
   "id": "a308ea596bcba7bb",
   "outputs": [
    {
     "data": {
      "text/plain": [
       "pandas.core.frame.DataFrame"
      ]
     },
     "execution_count": 26,
     "metadata": {},
     "output_type": "execute_result"
    }
   ],
   "execution_count": 26
  },
  {
   "metadata": {},
   "cell_type": "markdown",
   "source": "### Filtering rows based on a boolean",
   "id": "f562ba0b3240120"
  },
  {
   "metadata": {
    "ExecuteTime": {
     "end_time": "2024-10-02T07:43:25.157760Z",
     "start_time": "2024-10-02T07:43:25.141599Z"
    }
   },
   "cell_type": "code",
   "source": [
    "# Select the first two rows\n",
    "selection = [True, True, False]\n",
    "\n",
    "df[selection]"
   ],
   "id": "ee98281549b259e1",
   "outputs": [
    {
     "data": {
      "text/plain": [
       "                  Open       Close    Volume\n",
       "2021-12-22  173.039993  175.639999  92135300\n",
       "2021-12-23  175.850006  176.279999  68227500"
      ],
      "text/html": [
       "<div>\n",
       "<style scoped>\n",
       "    .dataframe tbody tr th:only-of-type {\n",
       "        vertical-align: middle;\n",
       "    }\n",
       "\n",
       "    .dataframe tbody tr th {\n",
       "        vertical-align: top;\n",
       "    }\n",
       "\n",
       "    .dataframe thead th {\n",
       "        text-align: right;\n",
       "    }\n",
       "</style>\n",
       "<table border=\"1\" class=\"dataframe\">\n",
       "  <thead>\n",
       "    <tr style=\"text-align: right;\">\n",
       "      <th></th>\n",
       "      <th>Open</th>\n",
       "      <th>Close</th>\n",
       "      <th>Volume</th>\n",
       "    </tr>\n",
       "  </thead>\n",
       "  <tbody>\n",
       "    <tr>\n",
       "      <th>2021-12-22</th>\n",
       "      <td>173.039993</td>\n",
       "      <td>175.639999</td>\n",
       "      <td>92135300</td>\n",
       "    </tr>\n",
       "    <tr>\n",
       "      <th>2021-12-23</th>\n",
       "      <td>175.850006</td>\n",
       "      <td>176.279999</td>\n",
       "      <td>68227500</td>\n",
       "    </tr>\n",
       "  </tbody>\n",
       "</table>\n",
       "</div>"
      ]
     },
     "execution_count": 35,
     "metadata": {},
     "output_type": "execute_result"
    }
   ],
   "execution_count": 35
  },
  {
   "metadata": {
    "ExecuteTime": {
     "end_time": "2024-10-02T07:45:29.558548Z",
     "start_time": "2024-10-02T07:45:29.540300Z"
    }
   },
   "cell_type": "code",
   "source": [
    "# Return a boolean series that is True when Open is greater than 175\n",
    "\n",
    "df['Open'] > 175"
   ],
   "id": "54ad673d89001cc0",
   "outputs": [
    {
     "data": {
      "text/plain": [
       "2021-12-22    False\n",
       "2021-12-23     True\n",
       "2021-12-27     True\n",
       "Name: Open, dtype: bool"
      ]
     },
     "execution_count": 38,
     "metadata": {},
     "output_type": "execute_result"
    }
   ],
   "execution_count": 38
  },
  {
   "metadata": {
    "ExecuteTime": {
     "end_time": "2024-10-02T07:47:51.545031Z",
     "start_time": "2024-10-02T07:47:51.518675Z"
    }
   },
   "cell_type": "code",
   "source": [
    "# Index the DataFrame using the boolean\n",
    "\n",
    "df[df['Open'] > 175]"
   ],
   "id": "8b4338e545cb1baf",
   "outputs": [
    {
     "data": {
      "text/plain": [
       "                  Open       Close    Volume\n",
       "2021-12-23  175.850006  176.279999  68227500\n",
       "2021-12-27  177.085007  177.410004  14381634"
      ],
      "text/html": [
       "<div>\n",
       "<style scoped>\n",
       "    .dataframe tbody tr th:only-of-type {\n",
       "        vertical-align: middle;\n",
       "    }\n",
       "\n",
       "    .dataframe tbody tr th {\n",
       "        vertical-align: top;\n",
       "    }\n",
       "\n",
       "    .dataframe thead th {\n",
       "        text-align: right;\n",
       "    }\n",
       "</style>\n",
       "<table border=\"1\" class=\"dataframe\">\n",
       "  <thead>\n",
       "    <tr style=\"text-align: right;\">\n",
       "      <th></th>\n",
       "      <th>Open</th>\n",
       "      <th>Close</th>\n",
       "      <th>Volume</th>\n",
       "    </tr>\n",
       "  </thead>\n",
       "  <tbody>\n",
       "    <tr>\n",
       "      <th>2021-12-23</th>\n",
       "      <td>175.850006</td>\n",
       "      <td>176.279999</td>\n",
       "      <td>68227500</td>\n",
       "    </tr>\n",
       "    <tr>\n",
       "      <th>2021-12-27</th>\n",
       "      <td>177.085007</td>\n",
       "      <td>177.410004</td>\n",
       "      <td>14381634</td>\n",
       "    </tr>\n",
       "  </tbody>\n",
       "</table>\n",
       "</div>"
      ]
     },
     "execution_count": 40,
     "metadata": {},
     "output_type": "execute_result"
    }
   ],
   "execution_count": 40
  },
  {
   "metadata": {},
   "cell_type": "markdown",
   "source": [
    "## df.loc[]\n",
    "The main way to index DataFrame. Uses row and column labels."
   ],
   "id": "df9b643f325f2b83"
  },
  {
   "metadata": {},
   "cell_type": "markdown",
   "source": "### Select a single row",
   "id": "20e48206a0a389f9"
  },
  {
   "metadata": {
    "ExecuteTime": {
     "end_time": "2024-10-02T07:54:26.628588Z",
     "start_time": "2024-10-02T07:54:26.607754Z"
    }
   },
   "cell_type": "code",
   "source": [
    "# Select a single row\n",
    "\n",
    "print(type(df.loc[\"2021-12-22\"]))\n",
    "\n",
    "df.loc[\"2021-12-22\"]"
   ],
   "id": "5cf6788ab82e612f",
   "outputs": [
    {
     "name": "stdout",
     "output_type": "stream",
     "text": [
      "<class 'pandas.core.series.Series'>\n"
     ]
    },
    {
     "data": {
      "text/plain": [
       "Open      1.730400e+02\n",
       "Close     1.756400e+02\n",
       "Volume    9.213530e+07\n",
       "Name: 2021-12-22 00:00:00, dtype: float64"
      ]
     },
     "execution_count": 43,
     "metadata": {},
     "output_type": "execute_result"
    }
   ],
   "execution_count": 43
  },
  {
   "metadata": {
    "ExecuteTime": {
     "end_time": "2024-10-02T07:56:57.079286Z",
     "start_time": "2024-10-02T07:56:57.043635Z"
    }
   },
   "cell_type": "code",
   "source": [
    "# Select a range from one row label to another\n",
    "\n",
    "df.loc[\"2021-12-22\": \"2021-12-23\"]"
   ],
   "id": "4a4319a488595dd9",
   "outputs": [
    {
     "data": {
      "text/plain": [
       "                  Open       Close    Volume\n",
       "2021-12-22  173.039993  175.639999  92135300\n",
       "2021-12-23  175.850006  176.279999  68227500"
      ],
      "text/html": [
       "<div>\n",
       "<style scoped>\n",
       "    .dataframe tbody tr th:only-of-type {\n",
       "        vertical-align: middle;\n",
       "    }\n",
       "\n",
       "    .dataframe tbody tr th {\n",
       "        vertical-align: top;\n",
       "    }\n",
       "\n",
       "    .dataframe thead th {\n",
       "        text-align: right;\n",
       "    }\n",
       "</style>\n",
       "<table border=\"1\" class=\"dataframe\">\n",
       "  <thead>\n",
       "    <tr style=\"text-align: right;\">\n",
       "      <th></th>\n",
       "      <th>Open</th>\n",
       "      <th>Close</th>\n",
       "      <th>Volume</th>\n",
       "    </tr>\n",
       "  </thead>\n",
       "  <tbody>\n",
       "    <tr>\n",
       "      <th>2021-12-22</th>\n",
       "      <td>173.039993</td>\n",
       "      <td>175.639999</td>\n",
       "      <td>92135300</td>\n",
       "    </tr>\n",
       "    <tr>\n",
       "      <th>2021-12-23</th>\n",
       "      <td>175.850006</td>\n",
       "      <td>176.279999</td>\n",
       "      <td>68227500</td>\n",
       "    </tr>\n",
       "  </tbody>\n",
       "</table>\n",
       "</div>"
      ]
     },
     "execution_count": 44,
     "metadata": {},
     "output_type": "execute_result"
    }
   ],
   "execution_count": 44
  },
  {
   "metadata": {
    "ExecuteTime": {
     "end_time": "2024-10-02T07:58:33.364553Z",
     "start_time": "2024-10-02T07:58:33.330657Z"
    }
   },
   "cell_type": "code",
   "source": [
    "# Select an open-ended range from one row label to the end of the rows\n",
    "\n",
    "df.loc[\"2021-12-23\":]"
   ],
   "id": "3a0b0b0979244ca7",
   "outputs": [
    {
     "data": {
      "text/plain": [
       "                  Open       Close    Volume\n",
       "2021-12-23  175.850006  176.279999  68227500\n",
       "2021-12-27  177.085007  177.410004  14381634"
      ],
      "text/html": [
       "<div>\n",
       "<style scoped>\n",
       "    .dataframe tbody tr th:only-of-type {\n",
       "        vertical-align: middle;\n",
       "    }\n",
       "\n",
       "    .dataframe tbody tr th {\n",
       "        vertical-align: top;\n",
       "    }\n",
       "\n",
       "    .dataframe thead th {\n",
       "        text-align: right;\n",
       "    }\n",
       "</style>\n",
       "<table border=\"1\" class=\"dataframe\">\n",
       "  <thead>\n",
       "    <tr style=\"text-align: right;\">\n",
       "      <th></th>\n",
       "      <th>Open</th>\n",
       "      <th>Close</th>\n",
       "      <th>Volume</th>\n",
       "    </tr>\n",
       "  </thead>\n",
       "  <tbody>\n",
       "    <tr>\n",
       "      <th>2021-12-23</th>\n",
       "      <td>175.850006</td>\n",
       "      <td>176.279999</td>\n",
       "      <td>68227500</td>\n",
       "    </tr>\n",
       "    <tr>\n",
       "      <th>2021-12-27</th>\n",
       "      <td>177.085007</td>\n",
       "      <td>177.410004</td>\n",
       "      <td>14381634</td>\n",
       "    </tr>\n",
       "  </tbody>\n",
       "</table>\n",
       "</div>"
      ]
     },
     "execution_count": 46,
     "metadata": {},
     "output_type": "execute_result"
    }
   ],
   "execution_count": 46
  },
  {
   "metadata": {
    "ExecuteTime": {
     "end_time": "2024-10-02T08:00:05.767407Z",
     "start_time": "2024-10-02T08:00:05.746103Z"
    }
   },
   "cell_type": "code",
   "source": [
    "# Select all rows\n",
    "\n",
    "df.loc[:]"
   ],
   "id": "e5f2652987ebb5aa",
   "outputs": [
    {
     "data": {
      "text/plain": [
       "                  Open       Close    Volume\n",
       "2021-12-22  173.039993  175.639999  92135300\n",
       "2021-12-23  175.850006  176.279999  68227500\n",
       "2021-12-27  177.085007  177.410004  14381634"
      ],
      "text/html": [
       "<div>\n",
       "<style scoped>\n",
       "    .dataframe tbody tr th:only-of-type {\n",
       "        vertical-align: middle;\n",
       "    }\n",
       "\n",
       "    .dataframe tbody tr th {\n",
       "        vertical-align: top;\n",
       "    }\n",
       "\n",
       "    .dataframe thead th {\n",
       "        text-align: right;\n",
       "    }\n",
       "</style>\n",
       "<table border=\"1\" class=\"dataframe\">\n",
       "  <thead>\n",
       "    <tr style=\"text-align: right;\">\n",
       "      <th></th>\n",
       "      <th>Open</th>\n",
       "      <th>Close</th>\n",
       "      <th>Volume</th>\n",
       "    </tr>\n",
       "  </thead>\n",
       "  <tbody>\n",
       "    <tr>\n",
       "      <th>2021-12-22</th>\n",
       "      <td>173.039993</td>\n",
       "      <td>175.639999</td>\n",
       "      <td>92135300</td>\n",
       "    </tr>\n",
       "    <tr>\n",
       "      <th>2021-12-23</th>\n",
       "      <td>175.850006</td>\n",
       "      <td>176.279999</td>\n",
       "      <td>68227500</td>\n",
       "    </tr>\n",
       "    <tr>\n",
       "      <th>2021-12-27</th>\n",
       "      <td>177.085007</td>\n",
       "      <td>177.410004</td>\n",
       "      <td>14381634</td>\n",
       "    </tr>\n",
       "  </tbody>\n",
       "</table>\n",
       "</div>"
      ]
     },
     "execution_count": 47,
     "metadata": {},
     "output_type": "execute_result"
    }
   ],
   "execution_count": 47
  },
  {
   "metadata": {
    "ExecuteTime": {
     "end_time": "2024-10-02T08:00:55.291918Z",
     "start_time": "2024-10-02T08:00:55.247118Z"
    }
   },
   "cell_type": "code",
   "source": [
    "# Selecting non-continuous rows\n",
    "\n",
    "df.loc[[\"2021-12-22\", \"2021-12-27\"]]"
   ],
   "id": "c69bb6b177738eae",
   "outputs": [
    {
     "data": {
      "text/plain": [
       "                  Open       Close    Volume\n",
       "2021-12-22  173.039993  175.639999  92135300\n",
       "2021-12-27  177.085007  177.410004  14381634"
      ],
      "text/html": [
       "<div>\n",
       "<style scoped>\n",
       "    .dataframe tbody tr th:only-of-type {\n",
       "        vertical-align: middle;\n",
       "    }\n",
       "\n",
       "    .dataframe tbody tr th {\n",
       "        vertical-align: top;\n",
       "    }\n",
       "\n",
       "    .dataframe thead th {\n",
       "        text-align: right;\n",
       "    }\n",
       "</style>\n",
       "<table border=\"1\" class=\"dataframe\">\n",
       "  <thead>\n",
       "    <tr style=\"text-align: right;\">\n",
       "      <th></th>\n",
       "      <th>Open</th>\n",
       "      <th>Close</th>\n",
       "      <th>Volume</th>\n",
       "    </tr>\n",
       "  </thead>\n",
       "  <tbody>\n",
       "    <tr>\n",
       "      <th>2021-12-22</th>\n",
       "      <td>173.039993</td>\n",
       "      <td>175.639999</td>\n",
       "      <td>92135300</td>\n",
       "    </tr>\n",
       "    <tr>\n",
       "      <th>2021-12-27</th>\n",
       "      <td>177.085007</td>\n",
       "      <td>177.410004</td>\n",
       "      <td>14381634</td>\n",
       "    </tr>\n",
       "  </tbody>\n",
       "</table>\n",
       "</div>"
      ]
     },
     "execution_count": 48,
     "metadata": {},
     "output_type": "execute_result"
    }
   ],
   "execution_count": 48
  },
  {
   "metadata": {},
   "cell_type": "markdown",
   "source": "### Selecting columns",
   "id": "e82e9d9604a5878c"
  },
  {
   "metadata": {
    "ExecuteTime": {
     "end_time": "2024-10-02T08:02:54.994237Z",
     "start_time": "2024-10-02T08:02:54.984107Z"
    }
   },
   "cell_type": "code",
   "source": [
    "# Select a single column\n",
    "\n",
    "df.loc[:, \"Open\"]"
   ],
   "id": "2e51c6516f957483",
   "outputs": [
    {
     "data": {
      "text/plain": [
       "2021-12-22    173.039993\n",
       "2021-12-23    175.850006\n",
       "2021-12-27    177.085007\n",
       "Name: Open, dtype: float64"
      ]
     },
     "execution_count": 50,
     "metadata": {},
     "output_type": "execute_result"
    }
   ],
   "execution_count": 50
  },
  {
   "metadata": {
    "ExecuteTime": {
     "end_time": "2024-10-02T08:04:42.464011Z",
     "start_time": "2024-10-02T08:04:42.438662Z"
    }
   },
   "cell_type": "code",
   "source": "df.loc[:, \"Open\": \"Volume\"]",
   "id": "669bd8f34ccd64ca",
   "outputs": [
    {
     "data": {
      "text/plain": [
       "                  Open       Close    Volume\n",
       "2021-12-22  173.039993  175.639999  92135300\n",
       "2021-12-23  175.850006  176.279999  68227500\n",
       "2021-12-27  177.085007  177.410004  14381634"
      ],
      "text/html": [
       "<div>\n",
       "<style scoped>\n",
       "    .dataframe tbody tr th:only-of-type {\n",
       "        vertical-align: middle;\n",
       "    }\n",
       "\n",
       "    .dataframe tbody tr th {\n",
       "        vertical-align: top;\n",
       "    }\n",
       "\n",
       "    .dataframe thead th {\n",
       "        text-align: right;\n",
       "    }\n",
       "</style>\n",
       "<table border=\"1\" class=\"dataframe\">\n",
       "  <thead>\n",
       "    <tr style=\"text-align: right;\">\n",
       "      <th></th>\n",
       "      <th>Open</th>\n",
       "      <th>Close</th>\n",
       "      <th>Volume</th>\n",
       "    </tr>\n",
       "  </thead>\n",
       "  <tbody>\n",
       "    <tr>\n",
       "      <th>2021-12-22</th>\n",
       "      <td>173.039993</td>\n",
       "      <td>175.639999</td>\n",
       "      <td>92135300</td>\n",
       "    </tr>\n",
       "    <tr>\n",
       "      <th>2021-12-23</th>\n",
       "      <td>175.850006</td>\n",
       "      <td>176.279999</td>\n",
       "      <td>68227500</td>\n",
       "    </tr>\n",
       "    <tr>\n",
       "      <th>2021-12-27</th>\n",
       "      <td>177.085007</td>\n",
       "      <td>177.410004</td>\n",
       "      <td>14381634</td>\n",
       "    </tr>\n",
       "  </tbody>\n",
       "</table>\n",
       "</div>"
      ]
     },
     "execution_count": 51,
     "metadata": {},
     "output_type": "execute_result"
    }
   ],
   "execution_count": 51
  },
  {
   "metadata": {
    "ExecuteTime": {
     "end_time": "2024-10-02T08:05:24.693589Z",
     "start_time": "2024-10-02T08:05:24.674017Z"
    }
   },
   "cell_type": "code",
   "source": "df.loc[:, :\"Close\"]",
   "id": "a8f1d925550a49b2",
   "outputs": [
    {
     "data": {
      "text/plain": [
       "                  Open       Close\n",
       "2021-12-22  173.039993  175.639999\n",
       "2021-12-23  175.850006  176.279999\n",
       "2021-12-27  177.085007  177.410004"
      ],
      "text/html": [
       "<div>\n",
       "<style scoped>\n",
       "    .dataframe tbody tr th:only-of-type {\n",
       "        vertical-align: middle;\n",
       "    }\n",
       "\n",
       "    .dataframe tbody tr th {\n",
       "        vertical-align: top;\n",
       "    }\n",
       "\n",
       "    .dataframe thead th {\n",
       "        text-align: right;\n",
       "    }\n",
       "</style>\n",
       "<table border=\"1\" class=\"dataframe\">\n",
       "  <thead>\n",
       "    <tr style=\"text-align: right;\">\n",
       "      <th></th>\n",
       "      <th>Open</th>\n",
       "      <th>Close</th>\n",
       "    </tr>\n",
       "  </thead>\n",
       "  <tbody>\n",
       "    <tr>\n",
       "      <th>2021-12-22</th>\n",
       "      <td>173.039993</td>\n",
       "      <td>175.639999</td>\n",
       "    </tr>\n",
       "    <tr>\n",
       "      <th>2021-12-23</th>\n",
       "      <td>175.850006</td>\n",
       "      <td>176.279999</td>\n",
       "    </tr>\n",
       "    <tr>\n",
       "      <th>2021-12-27</th>\n",
       "      <td>177.085007</td>\n",
       "      <td>177.410004</td>\n",
       "    </tr>\n",
       "  </tbody>\n",
       "</table>\n",
       "</div>"
      ]
     },
     "execution_count": 52,
     "metadata": {},
     "output_type": "execute_result"
    }
   ],
   "execution_count": 52
  },
  {
   "metadata": {},
   "cell_type": "markdown",
   "source": "### Selecting rows and columns",
   "id": "53469a0b533853f2"
  },
  {
   "metadata": {
    "ExecuteTime": {
     "end_time": "2024-10-02T08:08:18.202099Z",
     "start_time": "2024-10-02T08:08:18.182776Z"
    }
   },
   "cell_type": "code",
   "source": [
    "# Select a single cell\n",
    "\n",
    "df.loc[\"2021-12-22\", \"Open\"]"
   ],
   "id": "29ba05618e701e6e",
   "outputs": [
    {
     "data": {
      "text/plain": [
       "173.039993"
      ]
     },
     "execution_count": 53,
     "metadata": {},
     "output_type": "execute_result"
    }
   ],
   "execution_count": 53
  },
  {
   "metadata": {
    "ExecuteTime": {
     "end_time": "2024-10-02T08:09:08.207981Z",
     "start_time": "2024-10-02T08:09:08.192067Z"
    }
   },
   "cell_type": "code",
   "source": "df.loc[\"2021-12-22\":, \"Open\"]",
   "id": "ad2bc46d06eb6704",
   "outputs": [
    {
     "data": {
      "text/plain": [
       "2021-12-22    173.039993\n",
       "2021-12-23    175.850006\n",
       "2021-12-27    177.085007\n",
       "Name: Open, dtype: float64"
      ]
     },
     "execution_count": 54,
     "metadata": {},
     "output_type": "execute_result"
    }
   ],
   "execution_count": 54
  },
  {
   "metadata": {
    "ExecuteTime": {
     "end_time": "2024-10-02T08:10:13.075694Z",
     "start_time": "2024-10-02T08:10:13.043161Z"
    }
   },
   "cell_type": "code",
   "source": "df.loc[\"2021-12-23\":, \"Close\":]",
   "id": "5a6e6ab034db1fb2",
   "outputs": [
    {
     "data": {
      "text/plain": [
       "                 Close    Volume\n",
       "2021-12-23  176.279999  68227500\n",
       "2021-12-27  177.410004  14381634"
      ],
      "text/html": [
       "<div>\n",
       "<style scoped>\n",
       "    .dataframe tbody tr th:only-of-type {\n",
       "        vertical-align: middle;\n",
       "    }\n",
       "\n",
       "    .dataframe tbody tr th {\n",
       "        vertical-align: top;\n",
       "    }\n",
       "\n",
       "    .dataframe thead th {\n",
       "        text-align: right;\n",
       "    }\n",
       "</style>\n",
       "<table border=\"1\" class=\"dataframe\">\n",
       "  <thead>\n",
       "    <tr style=\"text-align: right;\">\n",
       "      <th></th>\n",
       "      <th>Close</th>\n",
       "      <th>Volume</th>\n",
       "    </tr>\n",
       "  </thead>\n",
       "  <tbody>\n",
       "    <tr>\n",
       "      <th>2021-12-23</th>\n",
       "      <td>176.279999</td>\n",
       "      <td>68227500</td>\n",
       "    </tr>\n",
       "    <tr>\n",
       "      <th>2021-12-27</th>\n",
       "      <td>177.410004</td>\n",
       "      <td>14381634</td>\n",
       "    </tr>\n",
       "  </tbody>\n",
       "</table>\n",
       "</div>"
      ]
     },
     "execution_count": 57,
     "metadata": {},
     "output_type": "execute_result"
    }
   ],
   "execution_count": 57
  },
  {
   "metadata": {
    "ExecuteTime": {
     "end_time": "2024-10-02T08:12:19.467479Z",
     "start_time": "2024-10-02T08:12:19.437186Z"
    }
   },
   "cell_type": "code",
   "source": "df.loc[[\"2021-12-22\", \"2021-12-27\"], [\"Open\", \"Close\"]]",
   "id": "7633ef2354665f91",
   "outputs": [
    {
     "data": {
      "text/plain": [
       "                  Open       Close\n",
       "2021-12-22  173.039993  175.639999\n",
       "2021-12-27  177.085007  177.410004"
      ],
      "text/html": [
       "<div>\n",
       "<style scoped>\n",
       "    .dataframe tbody tr th:only-of-type {\n",
       "        vertical-align: middle;\n",
       "    }\n",
       "\n",
       "    .dataframe tbody tr th {\n",
       "        vertical-align: top;\n",
       "    }\n",
       "\n",
       "    .dataframe thead th {\n",
       "        text-align: right;\n",
       "    }\n",
       "</style>\n",
       "<table border=\"1\" class=\"dataframe\">\n",
       "  <thead>\n",
       "    <tr style=\"text-align: right;\">\n",
       "      <th></th>\n",
       "      <th>Open</th>\n",
       "      <th>Close</th>\n",
       "    </tr>\n",
       "  </thead>\n",
       "  <tbody>\n",
       "    <tr>\n",
       "      <th>2021-12-22</th>\n",
       "      <td>173.039993</td>\n",
       "      <td>175.639999</td>\n",
       "    </tr>\n",
       "    <tr>\n",
       "      <th>2021-12-27</th>\n",
       "      <td>177.085007</td>\n",
       "      <td>177.410004</td>\n",
       "    </tr>\n",
       "  </tbody>\n",
       "</table>\n",
       "</div>"
      ]
     },
     "execution_count": 58,
     "metadata": {},
     "output_type": "execute_result"
    }
   ],
   "execution_count": 58
  },
  {
   "metadata": {},
   "cell_type": "markdown",
   "source": "### Filtering rows and columns",
   "id": "7d77cbb4f51190ce"
  },
  {
   "metadata": {
    "ExecuteTime": {
     "end_time": "2024-10-02T08:13:58.244612Z",
     "start_time": "2024-10-02T08:13:58.220552Z"
    }
   },
   "cell_type": "code",
   "source": [
    "# Filter rows with a boolean\n",
    "\n",
    "df.loc[df[\"Open\"] > 175]"
   ],
   "id": "fedf1e63cc7cb6ff",
   "outputs": [
    {
     "data": {
      "text/plain": [
       "                  Open       Close    Volume\n",
       "2021-12-23  175.850006  176.279999  68227500\n",
       "2021-12-27  177.085007  177.410004  14381634"
      ],
      "text/html": [
       "<div>\n",
       "<style scoped>\n",
       "    .dataframe tbody tr th:only-of-type {\n",
       "        vertical-align: middle;\n",
       "    }\n",
       "\n",
       "    .dataframe tbody tr th {\n",
       "        vertical-align: top;\n",
       "    }\n",
       "\n",
       "    .dataframe thead th {\n",
       "        text-align: right;\n",
       "    }\n",
       "</style>\n",
       "<table border=\"1\" class=\"dataframe\">\n",
       "  <thead>\n",
       "    <tr style=\"text-align: right;\">\n",
       "      <th></th>\n",
       "      <th>Open</th>\n",
       "      <th>Close</th>\n",
       "      <th>Volume</th>\n",
       "    </tr>\n",
       "  </thead>\n",
       "  <tbody>\n",
       "    <tr>\n",
       "      <th>2021-12-23</th>\n",
       "      <td>175.850006</td>\n",
       "      <td>176.279999</td>\n",
       "      <td>68227500</td>\n",
       "    </tr>\n",
       "    <tr>\n",
       "      <th>2021-12-27</th>\n",
       "      <td>177.085007</td>\n",
       "      <td>177.410004</td>\n",
       "      <td>14381634</td>\n",
       "    </tr>\n",
       "  </tbody>\n",
       "</table>\n",
       "</div>"
      ]
     },
     "execution_count": 59,
     "metadata": {},
     "output_type": "execute_result"
    }
   ],
   "execution_count": 59
  },
  {
   "metadata": {
    "ExecuteTime": {
     "end_time": "2024-10-02T08:14:34.126743Z",
     "start_time": "2024-10-02T08:14:34.112567Z"
    }
   },
   "cell_type": "code",
   "source": [
    "# Also add in column indexing \n",
    "\n",
    "df.loc[df[\"Open\"] > 175, \"Volume\"]"
   ],
   "id": "a8cca26d558e35b1",
   "outputs": [
    {
     "data": {
      "text/plain": [
       "2021-12-23    68227500\n",
       "2021-12-27    14381634\n",
       "Name: Volume, dtype: int64"
      ]
     },
     "execution_count": 60,
     "metadata": {},
     "output_type": "execute_result"
    }
   ],
   "execution_count": 60
  },
  {
   "metadata": {},
   "cell_type": "markdown",
   "source": [
    "## df.iloc[]\n",
    "Used to select rows and columns by position.\n"
   ],
   "id": "9853fb78bd0efbb"
  },
  {
   "metadata": {
    "ExecuteTime": {
     "end_time": "2024-10-02T08:19:19.212933Z",
     "start_time": "2024-10-02T08:19:19.193063Z"
    }
   },
   "cell_type": "code",
   "source": [
    "# Select a single row\n",
    "\n",
    "df.iloc[0]"
   ],
   "id": "9e85887a0121175",
   "outputs": [
    {
     "data": {
      "text/plain": [
       "Open      1.730400e+02\n",
       "Close     1.756400e+02\n",
       "Volume    9.213530e+07\n",
       "Name: 2021-12-22 00:00:00, dtype: float64"
      ]
     },
     "execution_count": 64,
     "metadata": {},
     "output_type": "execute_result"
    }
   ],
   "execution_count": 64
  },
  {
   "metadata": {
    "ExecuteTime": {
     "end_time": "2024-10-02T08:19:29.814235Z",
     "start_time": "2024-10-02T08:19:29.798558Z"
    }
   },
   "cell_type": "code",
   "source": [
    "# Select a single row\n",
    "\n",
    "df.iloc[:, 0]"
   ],
   "id": "92fcd2d5683b739a",
   "outputs": [
    {
     "data": {
      "text/plain": [
       "2021-12-22    173.039993\n",
       "2021-12-23    175.850006\n",
       "2021-12-27    177.085007\n",
       "Name: Open, dtype: float64"
      ]
     },
     "execution_count": 65,
     "metadata": {},
     "output_type": "execute_result"
    }
   ],
   "execution_count": 65
  },
  {
   "metadata": {
    "ExecuteTime": {
     "end_time": "2024-10-02T08:20:34.264571Z",
     "start_time": "2024-10-02T08:20:34.245229Z"
    }
   },
   "cell_type": "code",
   "source": [
    "# Select a range of rows\n",
    "\n",
    "df.iloc[2:]"
   ],
   "id": "fc1a891d7c5a39a7",
   "outputs": [
    {
     "data": {
      "text/plain": [
       "                  Open       Close    Volume\n",
       "2021-12-27  177.085007  177.410004  14381634"
      ],
      "text/html": [
       "<div>\n",
       "<style scoped>\n",
       "    .dataframe tbody tr th:only-of-type {\n",
       "        vertical-align: middle;\n",
       "    }\n",
       "\n",
       "    .dataframe tbody tr th {\n",
       "        vertical-align: top;\n",
       "    }\n",
       "\n",
       "    .dataframe thead th {\n",
       "        text-align: right;\n",
       "    }\n",
       "</style>\n",
       "<table border=\"1\" class=\"dataframe\">\n",
       "  <thead>\n",
       "    <tr style=\"text-align: right;\">\n",
       "      <th></th>\n",
       "      <th>Open</th>\n",
       "      <th>Close</th>\n",
       "      <th>Volume</th>\n",
       "    </tr>\n",
       "  </thead>\n",
       "  <tbody>\n",
       "    <tr>\n",
       "      <th>2021-12-27</th>\n",
       "      <td>177.085007</td>\n",
       "      <td>177.410004</td>\n",
       "      <td>14381634</td>\n",
       "    </tr>\n",
       "  </tbody>\n",
       "</table>\n",
       "</div>"
      ]
     },
     "execution_count": 66,
     "metadata": {},
     "output_type": "execute_result"
    }
   ],
   "execution_count": 66
  },
  {
   "metadata": {
    "ExecuteTime": {
     "end_time": "2024-10-02T08:21:05.820742Z",
     "start_time": "2024-10-02T08:21:05.795817Z"
    }
   },
   "cell_type": "code",
   "source": [
    "# Select a range of rows and a single column\n",
    "\n",
    "df.iloc[1:, 1:]"
   ],
   "id": "1ee89c4b55c319a8",
   "outputs": [
    {
     "data": {
      "text/plain": [
       "                 Close    Volume\n",
       "2021-12-23  176.279999  68227500\n",
       "2021-12-27  177.410004  14381634"
      ],
      "text/html": [
       "<div>\n",
       "<style scoped>\n",
       "    .dataframe tbody tr th:only-of-type {\n",
       "        vertical-align: middle;\n",
       "    }\n",
       "\n",
       "    .dataframe tbody tr th {\n",
       "        vertical-align: top;\n",
       "    }\n",
       "\n",
       "    .dataframe thead th {\n",
       "        text-align: right;\n",
       "    }\n",
       "</style>\n",
       "<table border=\"1\" class=\"dataframe\">\n",
       "  <thead>\n",
       "    <tr style=\"text-align: right;\">\n",
       "      <th></th>\n",
       "      <th>Close</th>\n",
       "      <th>Volume</th>\n",
       "    </tr>\n",
       "  </thead>\n",
       "  <tbody>\n",
       "    <tr>\n",
       "      <th>2021-12-23</th>\n",
       "      <td>176.279999</td>\n",
       "      <td>68227500</td>\n",
       "    </tr>\n",
       "    <tr>\n",
       "      <th>2021-12-27</th>\n",
       "      <td>177.410004</td>\n",
       "      <td>14381634</td>\n",
       "    </tr>\n",
       "  </tbody>\n",
       "</table>\n",
       "</div>"
      ]
     },
     "execution_count": 67,
     "metadata": {},
     "output_type": "execute_result"
    }
   ],
   "execution_count": 67
  },
  {
   "metadata": {},
   "cell_type": "markdown",
   "source": "### Combining multiple types of indexing",
   "id": "ba07cfdc9d0c8396"
  },
  {
   "metadata": {
    "ExecuteTime": {
     "end_time": "2024-10-02T08:22:33.046172Z",
     "start_time": "2024-10-02T08:22:33.024124Z"
    }
   },
   "cell_type": "code",
   "source": [
    "# Select a range of rows\n",
    "\n",
    "df.iloc[1:]"
   ],
   "id": "71778c498a134545",
   "outputs": [
    {
     "data": {
      "text/plain": [
       "                  Open       Close    Volume\n",
       "2021-12-23  175.850006  176.279999  68227500\n",
       "2021-12-27  177.085007  177.410004  14381634"
      ],
      "text/html": [
       "<div>\n",
       "<style scoped>\n",
       "    .dataframe tbody tr th:only-of-type {\n",
       "        vertical-align: middle;\n",
       "    }\n",
       "\n",
       "    .dataframe tbody tr th {\n",
       "        vertical-align: top;\n",
       "    }\n",
       "\n",
       "    .dataframe thead th {\n",
       "        text-align: right;\n",
       "    }\n",
       "</style>\n",
       "<table border=\"1\" class=\"dataframe\">\n",
       "  <thead>\n",
       "    <tr style=\"text-align: right;\">\n",
       "      <th></th>\n",
       "      <th>Open</th>\n",
       "      <th>Close</th>\n",
       "      <th>Volume</th>\n",
       "    </tr>\n",
       "  </thead>\n",
       "  <tbody>\n",
       "    <tr>\n",
       "      <th>2021-12-23</th>\n",
       "      <td>175.850006</td>\n",
       "      <td>176.279999</td>\n",
       "      <td>68227500</td>\n",
       "    </tr>\n",
       "    <tr>\n",
       "      <th>2021-12-27</th>\n",
       "      <td>177.085007</td>\n",
       "      <td>177.410004</td>\n",
       "      <td>14381634</td>\n",
       "    </tr>\n",
       "  </tbody>\n",
       "</table>\n",
       "</div>"
      ]
     },
     "execution_count": 68,
     "metadata": {},
     "output_type": "execute_result"
    }
   ],
   "execution_count": 68
  },
  {
   "metadata": {
    "ExecuteTime": {
     "end_time": "2024-10-02T08:24:08.623301Z",
     "start_time": "2024-10-02T08:24:08.606553Z"
    }
   },
   "cell_type": "code",
   "source": [
    "df1 = df.iloc[1:]\n",
    "df1"
   ],
   "id": "3b40d81bf6baea8b",
   "outputs": [
    {
     "data": {
      "text/plain": [
       "                  Open       Close    Volume\n",
       "2021-12-23  175.850006  176.279999  68227500\n",
       "2021-12-27  177.085007  177.410004  14381634"
      ],
      "text/html": [
       "<div>\n",
       "<style scoped>\n",
       "    .dataframe tbody tr th:only-of-type {\n",
       "        vertical-align: middle;\n",
       "    }\n",
       "\n",
       "    .dataframe tbody tr th {\n",
       "        vertical-align: top;\n",
       "    }\n",
       "\n",
       "    .dataframe thead th {\n",
       "        text-align: right;\n",
       "    }\n",
       "</style>\n",
       "<table border=\"1\" class=\"dataframe\">\n",
       "  <thead>\n",
       "    <tr style=\"text-align: right;\">\n",
       "      <th></th>\n",
       "      <th>Open</th>\n",
       "      <th>Close</th>\n",
       "      <th>Volume</th>\n",
       "    </tr>\n",
       "  </thead>\n",
       "  <tbody>\n",
       "    <tr>\n",
       "      <th>2021-12-23</th>\n",
       "      <td>175.850006</td>\n",
       "      <td>176.279999</td>\n",
       "      <td>68227500</td>\n",
       "    </tr>\n",
       "    <tr>\n",
       "      <th>2021-12-27</th>\n",
       "      <td>177.085007</td>\n",
       "      <td>177.410004</td>\n",
       "      <td>14381634</td>\n",
       "    </tr>\n",
       "  </tbody>\n",
       "</table>\n",
       "</div>"
      ]
     },
     "execution_count": 70,
     "metadata": {},
     "output_type": "execute_result"
    }
   ],
   "execution_count": 70
  },
  {
   "metadata": {
    "ExecuteTime": {
     "end_time": "2024-10-02T08:24:56.054439Z",
     "start_time": "2024-10-02T08:24:56.043479Z"
    }
   },
   "cell_type": "code",
   "source": "df1[\"Open\"]",
   "id": "a3b4607aec1a3fcf",
   "outputs": [
    {
     "data": {
      "text/plain": [
       "2021-12-23    175.850006\n",
       "2021-12-27    177.085007\n",
       "Name: Open, dtype: float64"
      ]
     },
     "execution_count": 72,
     "metadata": {},
     "output_type": "execute_result"
    }
   ],
   "execution_count": 72
  },
  {
   "metadata": {},
   "cell_type": "code",
   "outputs": [],
   "execution_count": null,
   "source": "",
   "id": "6cc4cd5ea9f7140f"
  }
 ],
 "metadata": {
  "kernelspec": {
   "display_name": "Python 3",
   "language": "python",
   "name": "python3"
  },
  "language_info": {
   "codemirror_mode": {
    "name": "ipython",
    "version": 2
   },
   "file_extension": ".py",
   "mimetype": "text/x-python",
   "name": "python",
   "nbconvert_exporter": "python",
   "pygments_lexer": "ipython2",
   "version": "2.7.6"
  }
 },
 "nbformat": 4,
 "nbformat_minor": 5
}
