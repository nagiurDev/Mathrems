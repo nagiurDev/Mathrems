{
 "cells": [
  {
   "cell_type": "markdown",
   "id": "328cf552-9df1-497e-b6f9-d0113ac61125",
   "metadata": {},
   "source": [
    "# 1.0 Understand Pytorch Tensors"
   ]
  },
  {
   "cell_type": "code",
   "execution_count": 4,
   "id": "71f62455-e49e-4e36-9319-3ab09391c564",
   "metadata": {},
   "outputs": [],
   "source": [
    "import torch"
   ]
  },
  {
   "cell_type": "code",
   "execution_count": 22,
   "id": "35884c07-70ba-4a81-a574-7a2b66b16dd5",
   "metadata": {},
   "outputs": [
    {
     "name": "stdout",
     "output_type": "stream",
     "text": [
      "tensor([[0, 0, 0],\n",
      "        [0, 0, 0],\n",
      "        [0, 0, 0],\n",
      "        [0, 0, 0],\n",
      "        [0, 0, 0]], dtype=torch.int16) \n",
      "\n",
      " tensor([[1, 1, 1, 1, 1, 1],\n",
      "        [1, 1, 1, 1, 1, 1],\n",
      "        [1, 1, 1, 1, 1, 1]], dtype=torch.int16)\n",
      "torch.int16\n"
     ]
    }
   ],
   "source": [
    "z = torch.zeros((5, 3), dtype=torch.int16)\n",
    "o = torch.ones((3,6), dtype=torch.int16)\n",
    "\n",
    "print(z,\"\\n\\n\", o)\n",
    "print(z.dtype)"
   ]
  },
  {
   "cell_type": "markdown",
   "id": "1ab3109b-35af-4897-8dac-559752509f8e",
   "metadata": {},
   "source": [
    "**Random Tensor**"
   ]
  },
  {
   "cell_type": "code",
   "execution_count": 39,
   "id": "62e0d727-3f48-4e08-be85-e20ad16ab8d5",
   "metadata": {},
   "outputs": [
    {
     "name": "stdout",
     "output_type": "stream",
     "text": [
      "R1:  tensor([[0.3126, 0.3791],\n",
      "        [0.3087, 0.0736]])\n",
      "R2:  tensor([[0.4216, 0.0691],\n",
      "        [0.2332, 0.4047]])\n",
      "R3:  tensor([[0.3126, 0.3791],\n",
      "        [0.3087, 0.0736]])\n"
     ]
    }
   ],
   "source": [
    "torch.manual_seed(1729)\n",
    "print(\"R1: \", torch.rand(2,2))\n",
    "\n",
    "print(\"R2: \", torch.rand(2,2))\n",
    "\n",
    "torch.manual_seed(1729)\n",
    "print(\"R3: \", torch.rand(2,2))"
   ]
  },
  {
   "cell_type": "code",
   "execution_count": 45,
   "id": "b179bce1-8e96-4e52-a992-ce46c397bd50",
   "metadata": {},
   "outputs": [
    {
     "name": "stdout",
     "output_type": "stream",
     "text": [
      "tensor([[1., 1., 1.],\n",
      "        [1., 1., 1.]])\n",
      "tensor([[2., 2., 2.],\n",
      "        [2., 2., 2.]])\n",
      "tensor([[3., 3., 3.],\n",
      "        [3., 3., 3.]])\n"
     ]
    }
   ],
   "source": [
    "ones = torch.ones(2,3)\n",
    "twos = torch.ones(2,3)*2\n",
    "\n",
    "print(ones)\n",
    "print(twos)\n",
    "\n",
    "threes = ones + twos\n",
    "print(threes)"
   ]
  },
  {
   "cell_type": "code",
   "execution_count": 49,
   "id": "672eeda4-f3b0-400c-97b2-760d632c7450",
   "metadata": {},
   "outputs": [
    {
     "ename": "RuntimeError",
     "evalue": "The size of tensor a (2) must match the size of tensor b (3) at non-singleton dimension 0",
     "output_type": "error",
     "traceback": [
      "\u001b[0;31m---------------------------------------------------------------------------\u001b[0m",
      "\u001b[0;31mRuntimeError\u001b[0m                              Traceback (most recent call last)",
      "Cell \u001b[0;32mIn[49], line 1\u001b[0m\n\u001b[0;32m----> 1\u001b[0m r \u001b[38;5;241m=\u001b[39m torch\u001b[38;5;241m.\u001b[39mrand(\u001b[38;5;241m2\u001b[39m,\u001b[38;5;241m3\u001b[39m) \u001b[38;5;241m+\u001b[39m torch\u001b[38;5;241m.\u001b[39mrand(\u001b[38;5;241m3\u001b[39m,\u001b[38;5;241m3\u001b[39m)\n\u001b[1;32m      2\u001b[0m \u001b[38;5;28mprint\u001b[39m(r)\n",
      "\u001b[0;31mRuntimeError\u001b[0m: The size of tensor a (2) must match the size of tensor b (3) at non-singleton dimension 0"
     ]
    }
   ],
   "source": [
    "r = torch.rand(2,3) + torch.rand(3,3)\n",
    "print(r)"
   ]
  },
  {
   "cell_type": "code",
   "execution_count": null,
   "id": "7b855c63-e715-4d25-aad4-31ee54000d5d",
   "metadata": {},
   "outputs": [],
   "source": []
  }
 ],
 "metadata": {
  "kernelspec": {
   "display_name": "Python 3 (ipykernel)",
   "language": "python",
   "name": "python3"
  },
  "language_info": {
   "codemirror_mode": {
    "name": "ipython",
    "version": 3
   },
   "file_extension": ".py",
   "mimetype": "text/x-python",
   "name": "python",
   "nbconvert_exporter": "python",
   "pygments_lexer": "ipython3",
   "version": "3.12.4"
  }
 },
 "nbformat": 4,
 "nbformat_minor": 5
}
