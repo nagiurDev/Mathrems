{
 "cells": [
  {
   "metadata": {
    "ExecuteTime": {
     "end_time": "2024-09-29T15:08:25.057320Z",
     "start_time": "2024-09-29T15:08:25.030873Z"
    }
   },
   "cell_type": "code",
   "source": [
    "# Checking the installed version of polars and pandas\n",
    "import polars as pl\n",
    "from polars import col, lit, when\n",
    "import pandas as pd\n",
    "import numpy as np\n",
    "\n",
    "import matplotlib.pyplot as plt\n",
    "import seaborn as sns\n",
    "\n",
    "import warnings\n",
    "warnings.simplefilter('ignore')\n",
    "\n",
    "print(pl.__version__)\n",
    "print(pd.__version__)"
   ],
   "id": "87cc75891a921c1e",
   "outputs": [
    {
     "name": "stdout",
     "output_type": "stream",
     "text": [
      "1.8.2\n",
      "2.2.2\n"
     ]
    }
   ],
   "execution_count": 74
  },
  {
   "metadata": {},
   "cell_type": "markdown",
   "source": [
    "# Describing data distribution: Graphical Methods\n",
    "\n",
    "## Learning objective\n",
    "\n",
    "- The concept of data distribution\n",
    "- Understanding the shape of a data distribution\n",
    "- Getting familiar with constructing and drawing a histogram\n",
    "- Being able to locate the center and spread of the distribution\n",
    "- Identifying symmetric and asymmetric shapes\n",
    "\n",
    "## Distributions to use\n",
    "\n",
    "- Gaussian / Normal distribution\n",
    "- Gamma\n",
    "- Poisson\n",
    "- Binomial\n"
   ],
   "id": "559e941ba24b15e9"
  },
  {
   "metadata": {},
   "cell_type": "markdown",
   "source": [
    "## Graphically displaying data\n",
    "\n",
    "- bar plot of univariate categorical data\n",
    "- comparative bar plot of categorical data\n",
    "- histogram of univariate numerical data\n",
    "\n",
    "### Displaying categorical data\n",
    "\n",
    "- univariate categorical data\n",
    "- bivariate categorical data"
   ],
   "id": "c64231611f49d52f"
  },
  {
   "metadata": {
    "ExecuteTime": {
     "end_time": "2024-09-29T15:08:36.764517Z",
     "start_time": "2024-09-29T15:08:36.715979Z"
    }
   },
   "cell_type": "code",
   "source": [
    "# Set random seed for reproducibility\n",
    "np.random.seed(42)\n",
    "\n",
    "# List of parties\n",
    "list_party = ['Party 1', 'Party 2', 'Party 3', 'Party 4']\n",
    "\n",
    "# Generate random data\n",
    "data = {\n",
    "    'ID': np.arange(1, 31),\n",
    "    'Sex': np.random.choice(['Male', 'Female'], size=30),\n",
    "    'Age': np.random.randint(18, 80, size=30),\n",
    "    'Income (BDT)': np.random.randint(20000, 100000, size=30),\n",
    "    'Political Affiliation': np.random.choice(list_party, size=30, p=[.4, .4, .15, .05])\n",
    "}\n",
    "\n",
    "df = pd.DataFrame(data)\n",
    "df"
   ],
   "id": "b69f196f27d2f928",
   "outputs": [
    {
     "data": {
      "text/plain": [
       "    ID     Sex  Age  Income (BDT) Political Affiliation\n",
       "0    1    Male   38         30627               Party 3\n",
       "1    2  Female   50         28792               Party 2\n",
       "2    3    Male   29         93969               Party 2\n",
       "3    4    Male   75         63001               Party 2\n",
       "4    5    Male   39         96552               Party 4\n",
       "5    6  Female   78         43897               Party 2\n",
       "6    7    Male   61         88148               Party 1\n",
       "7    8    Male   42         43483               Party 1\n",
       "8    9    Male   66         68555               Party 1\n",
       "9   10  Female   44         37159               Party 1\n",
       "10  11    Male   76         55920               Party 2\n",
       "11  12    Male   59         87121               Party 1\n",
       "12  13    Male   45         89479               Party 1\n",
       "13  14    Male   77         39457               Party 1\n",
       "14  15  Female   33         86557               Party 1\n",
       "15  16    Male   32         97189               Party 2\n",
       "16  17  Female   79         98953               Party 2\n",
       "17  18  Female   79         72995               Party 2\n",
       "18  19  Female   64         60757               Party 3\n",
       "19  20    Male   79         29692               Party 2\n",
       "20  21  Female   68         65758               Party 3\n",
       "21  22    Male   61         92409               Party 3\n",
       "22  23  Female   72         91211               Party 2\n",
       "23  24  Female   69         85697               Party 1\n",
       "24  25  Female   74         57065               Party 1\n",
       "25  26  Female   20         52606               Party 2\n",
       "26  27  Female   54         31534               Party 2\n",
       "27  28  Female   68         60397               Party 2\n",
       "28  29  Female   24         21016               Party 1\n",
       "29  30  Female   38         75591               Party 2"
      ],
      "text/html": [
       "<div>\n",
       "<style scoped>\n",
       "    .dataframe tbody tr th:only-of-type {\n",
       "        vertical-align: middle;\n",
       "    }\n",
       "\n",
       "    .dataframe tbody tr th {\n",
       "        vertical-align: top;\n",
       "    }\n",
       "\n",
       "    .dataframe thead th {\n",
       "        text-align: right;\n",
       "    }\n",
       "</style>\n",
       "<table border=\"1\" class=\"dataframe\">\n",
       "  <thead>\n",
       "    <tr style=\"text-align: right;\">\n",
       "      <th></th>\n",
       "      <th>ID</th>\n",
       "      <th>Sex</th>\n",
       "      <th>Age</th>\n",
       "      <th>Income (BDT)</th>\n",
       "      <th>Political Affiliation</th>\n",
       "    </tr>\n",
       "  </thead>\n",
       "  <tbody>\n",
       "    <tr>\n",
       "      <th>0</th>\n",
       "      <td>1</td>\n",
       "      <td>Male</td>\n",
       "      <td>38</td>\n",
       "      <td>30627</td>\n",
       "      <td>Party 3</td>\n",
       "    </tr>\n",
       "    <tr>\n",
       "      <th>1</th>\n",
       "      <td>2</td>\n",
       "      <td>Female</td>\n",
       "      <td>50</td>\n",
       "      <td>28792</td>\n",
       "      <td>Party 2</td>\n",
       "    </tr>\n",
       "    <tr>\n",
       "      <th>2</th>\n",
       "      <td>3</td>\n",
       "      <td>Male</td>\n",
       "      <td>29</td>\n",
       "      <td>93969</td>\n",
       "      <td>Party 2</td>\n",
       "    </tr>\n",
       "    <tr>\n",
       "      <th>3</th>\n",
       "      <td>4</td>\n",
       "      <td>Male</td>\n",
       "      <td>75</td>\n",
       "      <td>63001</td>\n",
       "      <td>Party 2</td>\n",
       "    </tr>\n",
       "    <tr>\n",
       "      <th>4</th>\n",
       "      <td>5</td>\n",
       "      <td>Male</td>\n",
       "      <td>39</td>\n",
       "      <td>96552</td>\n",
       "      <td>Party 4</td>\n",
       "    </tr>\n",
       "    <tr>\n",
       "      <th>5</th>\n",
       "      <td>6</td>\n",
       "      <td>Female</td>\n",
       "      <td>78</td>\n",
       "      <td>43897</td>\n",
       "      <td>Party 2</td>\n",
       "    </tr>\n",
       "    <tr>\n",
       "      <th>6</th>\n",
       "      <td>7</td>\n",
       "      <td>Male</td>\n",
       "      <td>61</td>\n",
       "      <td>88148</td>\n",
       "      <td>Party 1</td>\n",
       "    </tr>\n",
       "    <tr>\n",
       "      <th>7</th>\n",
       "      <td>8</td>\n",
       "      <td>Male</td>\n",
       "      <td>42</td>\n",
       "      <td>43483</td>\n",
       "      <td>Party 1</td>\n",
       "    </tr>\n",
       "    <tr>\n",
       "      <th>8</th>\n",
       "      <td>9</td>\n",
       "      <td>Male</td>\n",
       "      <td>66</td>\n",
       "      <td>68555</td>\n",
       "      <td>Party 1</td>\n",
       "    </tr>\n",
       "    <tr>\n",
       "      <th>9</th>\n",
       "      <td>10</td>\n",
       "      <td>Female</td>\n",
       "      <td>44</td>\n",
       "      <td>37159</td>\n",
       "      <td>Party 1</td>\n",
       "    </tr>\n",
       "    <tr>\n",
       "      <th>10</th>\n",
       "      <td>11</td>\n",
       "      <td>Male</td>\n",
       "      <td>76</td>\n",
       "      <td>55920</td>\n",
       "      <td>Party 2</td>\n",
       "    </tr>\n",
       "    <tr>\n",
       "      <th>11</th>\n",
       "      <td>12</td>\n",
       "      <td>Male</td>\n",
       "      <td>59</td>\n",
       "      <td>87121</td>\n",
       "      <td>Party 1</td>\n",
       "    </tr>\n",
       "    <tr>\n",
       "      <th>12</th>\n",
       "      <td>13</td>\n",
       "      <td>Male</td>\n",
       "      <td>45</td>\n",
       "      <td>89479</td>\n",
       "      <td>Party 1</td>\n",
       "    </tr>\n",
       "    <tr>\n",
       "      <th>13</th>\n",
       "      <td>14</td>\n",
       "      <td>Male</td>\n",
       "      <td>77</td>\n",
       "      <td>39457</td>\n",
       "      <td>Party 1</td>\n",
       "    </tr>\n",
       "    <tr>\n",
       "      <th>14</th>\n",
       "      <td>15</td>\n",
       "      <td>Female</td>\n",
       "      <td>33</td>\n",
       "      <td>86557</td>\n",
       "      <td>Party 1</td>\n",
       "    </tr>\n",
       "    <tr>\n",
       "      <th>15</th>\n",
       "      <td>16</td>\n",
       "      <td>Male</td>\n",
       "      <td>32</td>\n",
       "      <td>97189</td>\n",
       "      <td>Party 2</td>\n",
       "    </tr>\n",
       "    <tr>\n",
       "      <th>16</th>\n",
       "      <td>17</td>\n",
       "      <td>Female</td>\n",
       "      <td>79</td>\n",
       "      <td>98953</td>\n",
       "      <td>Party 2</td>\n",
       "    </tr>\n",
       "    <tr>\n",
       "      <th>17</th>\n",
       "      <td>18</td>\n",
       "      <td>Female</td>\n",
       "      <td>79</td>\n",
       "      <td>72995</td>\n",
       "      <td>Party 2</td>\n",
       "    </tr>\n",
       "    <tr>\n",
       "      <th>18</th>\n",
       "      <td>19</td>\n",
       "      <td>Female</td>\n",
       "      <td>64</td>\n",
       "      <td>60757</td>\n",
       "      <td>Party 3</td>\n",
       "    </tr>\n",
       "    <tr>\n",
       "      <th>19</th>\n",
       "      <td>20</td>\n",
       "      <td>Male</td>\n",
       "      <td>79</td>\n",
       "      <td>29692</td>\n",
       "      <td>Party 2</td>\n",
       "    </tr>\n",
       "    <tr>\n",
       "      <th>20</th>\n",
       "      <td>21</td>\n",
       "      <td>Female</td>\n",
       "      <td>68</td>\n",
       "      <td>65758</td>\n",
       "      <td>Party 3</td>\n",
       "    </tr>\n",
       "    <tr>\n",
       "      <th>21</th>\n",
       "      <td>22</td>\n",
       "      <td>Male</td>\n",
       "      <td>61</td>\n",
       "      <td>92409</td>\n",
       "      <td>Party 3</td>\n",
       "    </tr>\n",
       "    <tr>\n",
       "      <th>22</th>\n",
       "      <td>23</td>\n",
       "      <td>Female</td>\n",
       "      <td>72</td>\n",
       "      <td>91211</td>\n",
       "      <td>Party 2</td>\n",
       "    </tr>\n",
       "    <tr>\n",
       "      <th>23</th>\n",
       "      <td>24</td>\n",
       "      <td>Female</td>\n",
       "      <td>69</td>\n",
       "      <td>85697</td>\n",
       "      <td>Party 1</td>\n",
       "    </tr>\n",
       "    <tr>\n",
       "      <th>24</th>\n",
       "      <td>25</td>\n",
       "      <td>Female</td>\n",
       "      <td>74</td>\n",
       "      <td>57065</td>\n",
       "      <td>Party 1</td>\n",
       "    </tr>\n",
       "    <tr>\n",
       "      <th>25</th>\n",
       "      <td>26</td>\n",
       "      <td>Female</td>\n",
       "      <td>20</td>\n",
       "      <td>52606</td>\n",
       "      <td>Party 2</td>\n",
       "    </tr>\n",
       "    <tr>\n",
       "      <th>26</th>\n",
       "      <td>27</td>\n",
       "      <td>Female</td>\n",
       "      <td>54</td>\n",
       "      <td>31534</td>\n",
       "      <td>Party 2</td>\n",
       "    </tr>\n",
       "    <tr>\n",
       "      <th>27</th>\n",
       "      <td>28</td>\n",
       "      <td>Female</td>\n",
       "      <td>68</td>\n",
       "      <td>60397</td>\n",
       "      <td>Party 2</td>\n",
       "    </tr>\n",
       "    <tr>\n",
       "      <th>28</th>\n",
       "      <td>29</td>\n",
       "      <td>Female</td>\n",
       "      <td>24</td>\n",
       "      <td>21016</td>\n",
       "      <td>Party 1</td>\n",
       "    </tr>\n",
       "    <tr>\n",
       "      <th>29</th>\n",
       "      <td>30</td>\n",
       "      <td>Female</td>\n",
       "      <td>38</td>\n",
       "      <td>75591</td>\n",
       "      <td>Party 2</td>\n",
       "    </tr>\n",
       "  </tbody>\n",
       "</table>\n",
       "</div>"
      ]
     },
     "execution_count": 75,
     "metadata": {},
     "output_type": "execute_result"
    }
   ],
   "execution_count": 75
  },
  {
   "metadata": {},
   "cell_type": "markdown",
   "source": [
    "### Bar plot\n",
    "\n",
    "Create a new data/table to store the frequency distribution"
   ],
   "id": "3c320f4737e2aebc"
  },
  {
   "metadata": {
    "ExecuteTime": {
     "end_time": "2024-09-29T14:37:21.512445Z",
     "start_time": "2024-09-29T14:37:21.470251Z"
    }
   },
   "cell_type": "code",
   "source": [
    "df_agg_sex = df.groupby('Sex').agg(\n",
    "    Count=('Sex', 'count')  \n",
    ").reset_index()\n",
    "\n",
    "df_agg_sex"
   ],
   "id": "a9baaf21cd3041c7",
   "outputs": [
    {
     "data": {
      "text/plain": [
       "      Sex  Count\n",
       "0  Female     16\n",
       "1    Male     14"
      ],
      "text/html": [
       "<div>\n",
       "<style scoped>\n",
       "    .dataframe tbody tr th:only-of-type {\n",
       "        vertical-align: middle;\n",
       "    }\n",
       "\n",
       "    .dataframe tbody tr th {\n",
       "        vertical-align: top;\n",
       "    }\n",
       "\n",
       "    .dataframe thead th {\n",
       "        text-align: right;\n",
       "    }\n",
       "</style>\n",
       "<table border=\"1\" class=\"dataframe\">\n",
       "  <thead>\n",
       "    <tr style=\"text-align: right;\">\n",
       "      <th></th>\n",
       "      <th>Sex</th>\n",
       "      <th>Count</th>\n",
       "    </tr>\n",
       "  </thead>\n",
       "  <tbody>\n",
       "    <tr>\n",
       "      <th>0</th>\n",
       "      <td>Female</td>\n",
       "      <td>16</td>\n",
       "    </tr>\n",
       "    <tr>\n",
       "      <th>1</th>\n",
       "      <td>Male</td>\n",
       "      <td>14</td>\n",
       "    </tr>\n",
       "  </tbody>\n",
       "</table>\n",
       "</div>"
      ]
     },
     "execution_count": 27,
     "metadata": {},
     "output_type": "execute_result"
    }
   ],
   "execution_count": 27
  },
  {
   "metadata": {
    "ExecuteTime": {
     "end_time": "2024-09-29T14:40:26.535949Z",
     "start_time": "2024-09-29T14:40:26.081147Z"
    }
   },
   "cell_type": "code",
   "source": "sns.barplot(df_agg_sex, x='Sex', y='Count')",
   "id": "35e0ffd2fb455391",
   "outputs": [
    {
     "data": {
      "text/plain": [
       "<Axes: xlabel='Sex', ylabel='Count'>"
      ]
     },
     "execution_count": 29,
     "metadata": {},
     "output_type": "execute_result"
    },
    {
     "data": {
      "text/plain": [
       "<Figure size 640x480 with 1 Axes>"
      ],
      "image/png": "[encoded data removed]"
     },
     "metadata": {},
     "output_type": "display_data"
    }
   ],
   "execution_count": 29
  },
  {
   "metadata": {
    "ExecuteTime": {
     "end_time": "2024-09-29T14:43:50.634745Z",
     "start_time": "2024-09-29T14:43:50.324090Z"
    }
   },
   "cell_type": "code",
   "source": "sns.countplot(df, x='Sex', stat='count')",
   "id": "1a0c404ed82fc868",
   "outputs": [
    {
     "data": {
      "text/plain": [
       "<Axes: xlabel='Sex', ylabel='count'>"
      ]
     },
     "execution_count": 36,
     "metadata": {},
     "output_type": "execute_result"
    },
    {
     "data": {
      "text/plain": [
       "<Figure size 640x480 with 1 Axes>"
      ],
      "image/png": "[encoded data removed]"
     },
     "metadata": {},
     "output_type": "display_data"
    }
   ],
   "execution_count": 36
  },
  {
   "metadata": {
    "ExecuteTime": {
     "end_time": "2024-09-29T14:46:47.784869Z",
     "start_time": "2024-09-29T14:46:47.502443Z"
    }
   },
   "cell_type": "code",
   "source": "sns.barplot(df_agg_sex, x='Sex', y = 'Count', order=['Female', 'Male'])",
   "id": "92289f599154638e",
   "outputs": [
    {
     "data": {
      "text/plain": [
       "<Axes: xlabel='Sex', ylabel='Count'>"
      ]
     },
     "execution_count": 41,
     "metadata": {},
     "output_type": "execute_result"
    },
    {
     "data": {
      "text/plain": [
       "<Figure size 640x480 with 1 Axes>"
      ],
      "image/png": "[encoded data removed]"
     },
     "metadata": {},
     "output_type": "display_data"
    }
   ],
   "execution_count": 41
  },
  {
   "metadata": {
    "ExecuteTime": {
     "end_time": "2024-09-29T14:54:01.989255Z",
     "start_time": "2024-09-29T14:54:01.936962Z"
    }
   },
   "cell_type": "code",
   "source": [
    "df_agg_sex = df.groupby('Sex').agg(\n",
    "    Count=('Sex', 'count')\n",
    ").reset_index()\n",
    "\n",
    "# Calculate the percentage\n",
    "df_agg_sex['Percent'] = df_agg_sex['Count'] / df_agg_sex['Count'].sum() * 100\n",
    "df_agg_sex\n"
   ],
   "id": "8874eb31ef00602f",
   "outputs": [
    {
     "data": {
      "text/plain": [
       "      Sex  Count    Percent\n",
       "0  Female     16  53.333333\n",
       "1    Male     14  46.666667"
      ],
      "text/html": [
       "<div>\n",
       "<style scoped>\n",
       "    .dataframe tbody tr th:only-of-type {\n",
       "        vertical-align: middle;\n",
       "    }\n",
       "\n",
       "    .dataframe tbody tr th {\n",
       "        vertical-align: top;\n",
       "    }\n",
       "\n",
       "    .dataframe thead th {\n",
       "        text-align: right;\n",
       "    }\n",
       "</style>\n",
       "<table border=\"1\" class=\"dataframe\">\n",
       "  <thead>\n",
       "    <tr style=\"text-align: right;\">\n",
       "      <th></th>\n",
       "      <th>Sex</th>\n",
       "      <th>Count</th>\n",
       "      <th>Percent</th>\n",
       "    </tr>\n",
       "  </thead>\n",
       "  <tbody>\n",
       "    <tr>\n",
       "      <th>0</th>\n",
       "      <td>Female</td>\n",
       "      <td>16</td>\n",
       "      <td>53.333333</td>\n",
       "    </tr>\n",
       "    <tr>\n",
       "      <th>1</th>\n",
       "      <td>Male</td>\n",
       "      <td>14</td>\n",
       "      <td>46.666667</td>\n",
       "    </tr>\n",
       "  </tbody>\n",
       "</table>\n",
       "</div>"
      ]
     },
     "execution_count": 51,
     "metadata": {},
     "output_type": "execute_result"
    }
   ],
   "execution_count": 51
  },
  {
   "metadata": {
    "ExecuteTime": {
     "end_time": "2024-09-29T14:49:35.289598Z",
     "start_time": "2024-09-29T14:49:34.973032Z"
    }
   },
   "cell_type": "code",
   "source": "sns.barplot(df_agg_sex, x = 'Sex', y = 'Percent', order= ['Female', 'Male'])",
   "id": "d3a36614d06b6119",
   "outputs": [
    {
     "data": {
      "text/plain": [
       "<Axes: xlabel='Sex', ylabel='Percent'>"
      ]
     },
     "execution_count": 45,
     "metadata": {},
     "output_type": "execute_result"
    },
    {
     "data": {
      "text/plain": [
       "<Figure size 640x480 with 1 Axes>"
      ],
      "image/png": "[encoded data removed]"
     },
     "metadata": {},
     "output_type": "display_data"
    }
   ],
   "execution_count": 45
  },
  {
   "metadata": {},
   "cell_type": "markdown",
   "source": [
    "### Comparative bar plots\n",
    "\n",
    "We want to construct a bar plot grouped by sexes. First let us draw a barplot for political affiliations."
   ],
   "id": "eddedecf234364e4"
  },
  {
   "metadata": {
    "ExecuteTime": {
     "end_time": "2024-09-29T15:00:17.628144Z",
     "start_time": "2024-09-29T15:00:17.503630Z"
    }
   },
   "cell_type": "code",
   "source": [
    "df_pol_aff = df.groupby('Political Affiliation').agg(\n",
    "    Count=('Political Affiliation', 'count')\n",
    ").reset_index()\n",
    "\n",
    "df_pol_aff"
   ],
   "id": "bd9ae00cc90ca836",
   "outputs": [
    {
     "data": {
      "text/plain": [
       "  Political Affiliation  Count\n",
       "0               Party 1     11\n",
       "1               Party 2     14\n",
       "2               Party 3      4\n",
       "3               Party 4      1"
      ],
      "text/html": [
       "<div>\n",
       "<style scoped>\n",
       "    .dataframe tbody tr th:only-of-type {\n",
       "        vertical-align: middle;\n",
       "    }\n",
       "\n",
       "    .dataframe tbody tr th {\n",
       "        vertical-align: top;\n",
       "    }\n",
       "\n",
       "    .dataframe thead th {\n",
       "        text-align: right;\n",
       "    }\n",
       "</style>\n",
       "<table border=\"1\" class=\"dataframe\">\n",
       "  <thead>\n",
       "    <tr style=\"text-align: right;\">\n",
       "      <th></th>\n",
       "      <th>Political Affiliation</th>\n",
       "      <th>Count</th>\n",
       "    </tr>\n",
       "  </thead>\n",
       "  <tbody>\n",
       "    <tr>\n",
       "      <th>0</th>\n",
       "      <td>Party 1</td>\n",
       "      <td>11</td>\n",
       "    </tr>\n",
       "    <tr>\n",
       "      <th>1</th>\n",
       "      <td>Party 2</td>\n",
       "      <td>14</td>\n",
       "    </tr>\n",
       "    <tr>\n",
       "      <th>2</th>\n",
       "      <td>Party 3</td>\n",
       "      <td>4</td>\n",
       "    </tr>\n",
       "    <tr>\n",
       "      <th>3</th>\n",
       "      <td>Party 4</td>\n",
       "      <td>1</td>\n",
       "    </tr>\n",
       "  </tbody>\n",
       "</table>\n",
       "</div>"
      ]
     },
     "execution_count": 59,
     "metadata": {},
     "output_type": "execute_result"
    }
   ],
   "execution_count": 59
  },
  {
   "metadata": {
    "ExecuteTime": {
     "end_time": "2024-09-29T15:00:34.579807Z",
     "start_time": "2024-09-29T15:00:34.143145Z"
    }
   },
   "cell_type": "code",
   "source": "sns.barplot(df_pol_aff, x='Political Affiliation', y='Count', order=list_party)",
   "id": "2e9b676fb2363677",
   "outputs": [
    {
     "data": {
      "text/plain": [
       "<Axes: xlabel='Political Affiliation', ylabel='Count'>"
      ]
     },
     "execution_count": 60,
     "metadata": {},
     "output_type": "execute_result"
    },
    {
     "data": {
      "text/plain": [
       "<Figure size 640x480 with 1 Axes>"
      ],
      "image/png": "[encoded data removed]"
     },
     "metadata": {},
     "output_type": "display_data"
    }
   ],
   "execution_count": 60
  },
  {
   "metadata": {
    "ExecuteTime": {
     "end_time": "2024-09-29T15:01:11.200837Z",
     "start_time": "2024-09-29T15:01:10.900776Z"
    }
   },
   "cell_type": "code",
   "source": "sns.countplot(df, x='Political Affiliation', stat='count', order=list_party)",
   "id": "98a38ec01a4fe7c9",
   "outputs": [
    {
     "data": {
      "text/plain": [
       "<Axes: xlabel='Political Affiliation', ylabel='count'>"
      ]
     },
     "execution_count": 61,
     "metadata": {},
     "output_type": "execute_result"
    },
    {
     "data": {
      "text/plain": [
       "<Figure size 640x480 with 1 Axes>"
      ],
      "image/png": "[encoded data removed]"
     },
     "metadata": {},
     "output_type": "display_data"
    }
   ],
   "execution_count": 61
  },
  {
   "metadata": {},
   "cell_type": "markdown",
   "source": "### Plot the relative frequency of each party",
   "id": "ec62be62548c3fb0"
  },
  {
   "metadata": {
    "ExecuteTime": {
     "end_time": "2024-09-29T15:04:53.419720Z",
     "start_time": "2024-09-29T15:04:53.109299Z"
    }
   },
   "cell_type": "code",
   "source": "sns.countplot(df, x='Political Affiliation', stat='probability', order=list_party)",
   "id": "7f6ad4e38dd425c8",
   "outputs": [
    {
     "data": {
      "text/plain": [
       "<Axes: xlabel='Political Affiliation', ylabel='probability'>"
      ]
     },
     "execution_count": 66,
     "metadata": {},
     "output_type": "execute_result"
    },
    {
     "data": {
      "text/plain": [
       "<Figure size 640x480 with 1 Axes>"
      ],
      "image/png": "[encoded data removed]"
     },
     "metadata": {},
     "output_type": "display_data"
    }
   ],
   "execution_count": 66
  },
  {
   "metadata": {
    "ExecuteTime": {
     "end_time": "2024-09-29T15:05:56.493942Z",
     "start_time": "2024-09-29T15:05:56.206833Z"
    }
   },
   "cell_type": "code",
   "source": "sns.countplot(df, x='Political Affiliation', stat='proportion', order=list_party)",
   "id": "1ce949b43ea333a0",
   "outputs": [
    {
     "data": {
      "text/plain": [
       "<Axes: xlabel='Political Affiliation', ylabel='proportion'>"
      ]
     },
     "execution_count": 67,
     "metadata": {},
     "output_type": "execute_result"
    },
    {
     "data": {
      "text/plain": [
       "<Figure size 640x480 with 1 Axes>"
      ],
      "image/png": "[encoded data removed]"
     },
     "metadata": {},
     "output_type": "display_data"
    }
   ],
   "execution_count": 67
  },
  {
   "metadata": {
    "ExecuteTime": {
     "end_time": "2024-09-29T15:07:25.833548Z",
     "start_time": "2024-09-29T15:07:25.585395Z"
    }
   },
   "cell_type": "code",
   "source": "sns.countplot(df, x='Sex', stat='probability')",
   "id": "7791cdcb55e49332",
   "outputs": [
    {
     "data": {
      "text/plain": [
       "<Axes: xlabel='Sex', ylabel='probability'>"
      ]
     },
     "execution_count": 73,
     "metadata": {},
     "output_type": "execute_result"
    },
    {
     "data": {
      "text/plain": [
       "<Figure size 640x480 with 1 Axes>"
      ],
      "image/png": "[encoded data removed]"
     },
     "metadata": {},
     "output_type": "display_data"
    }
   ],
   "execution_count": 73
  },
  {
   "metadata": {},
   "cell_type": "markdown",
   "source": "### Political affiliation compares between the sexes",
   "id": "8ec202ef01c8bf42"
  },
  {
   "metadata": {
    "ExecuteTime": {
     "end_time": "2024-09-29T15:13:24.329513Z",
     "start_time": "2024-09-29T15:13:23.845734Z"
    }
   },
   "cell_type": "code",
   "source": [
    "sns.countplot(data=df, x='Political Affiliation', hue='Sex', palette='husl', stat='percent', order=list_party)\n",
    "\n",
    "# Set labels and title\n",
    "plt.xlabel('Political affiliation')\n",
    "plt.ylabel('Count')\n",
    "plt.title('Political Affiliation by Sex')\n",
    "\n",
    "# Show plot\n",
    "plt.legend(title='Political Affiliation')\n",
    "plt.show()"
   ],
   "id": "a902f6b9ab2bd300",
   "outputs": [
    {
     "data": {
      "text/plain": [
       "<Figure size 640x480 with 1 Axes>"
      ],
      "image/png": "[encoded data removed]"
     },
     "metadata": {},
     "output_type": "display_data"
    }
   ],
   "execution_count": 80
  },
  {
   "metadata": {
    "ExecuteTime": {
     "end_time": "2024-09-29T15:15:06.517320Z",
     "start_time": "2024-09-29T15:15:06.100704Z"
    }
   },
   "cell_type": "code",
   "source": "sns.countplot(data=df, x='Sex', hue='Political Affiliation', palette='husl', stat='percent')",
   "id": "bcc2c12e11f6d3ed",
   "outputs": [
    {
     "data": {
      "text/plain": [
       "<Axes: xlabel='Sex', ylabel='percent'>"
      ]
     },
     "execution_count": 83,
     "metadata": {},
     "output_type": "execute_result"
    },
    {
     "data": {
      "text/plain": [
       "<Figure size 640x480 with 1 Axes>"
      ],
      "image/png": "[encoded data removed]"
     },
     "metadata": {},
     "output_type": "display_data"
    }
   ],
   "execution_count": 83
  },
  {
   "metadata": {},
   "cell_type": "markdown",
   "source": "## **Example: Tech layoff**",
   "id": "38dd3aa13a4c038e"
  },
  {
   "metadata": {},
   "cell_type": "code",
   "outputs": [],
   "execution_count": null,
   "source": "",
   "id": "12fd2b4f0d0a6251"
  }
 ],
 "metadata": {
  "kernelspec": {
   "display_name": "Python 3",
   "language": "python",
   "name": "python3"
  },
  "language_info": {
   "codemirror_mode": {
    "name": "ipython",
    "version": 2
   },
   "file_extension": ".py",
   "mimetype": "text/x-python",
   "name": "python",
   "nbconvert_exporter": "python",
   "pygments_lexer": "ipython2",
   "version": "2.7.6"
  }
 },
 "nbformat": 4,
 "nbformat_minor": 5
}
